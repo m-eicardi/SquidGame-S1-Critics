{
 "cells": [
  {
   "cell_type": "code",
   "execution_count": 29,
   "metadata": {},
   "outputs": [],
   "source": [
    "from urllib.request import urlopen\n",
    "import csv"
   ]
  },
  {
   "cell_type": "code",
   "execution_count": 30,
   "metadata": {},
   "outputs": [],
   "source": [
    "urls = ['https://www.rottentomatoes.com/tv/squid_game/s01/reviews?type=&sort=']*3"
   ]
  },
  {
   "cell_type": "code",
   "execution_count": 31,
   "metadata": {},
   "outputs": [
    {
     "data": {
      "text/plain": [
       "['https://www.rottentomatoes.com/tv/squid_game/s01/reviews?type=&sort=',\n",
       " 'https://www.rottentomatoes.com/tv/squid_game/s01/reviews?type=&sort=',\n",
       " 'https://www.rottentomatoes.com/tv/squid_game/s01/reviews?type=&sort=']"
      ]
     },
     "execution_count": 31,
     "metadata": {},
     "output_type": "execute_result"
    }
   ],
   "source": [
    "urls"
   ]
  },
  {
   "cell_type": "code",
   "execution_count": 32,
   "metadata": {},
   "outputs": [],
   "source": [
    "page = 0\n",
    "while (page<=2):\n",
    "    url_pos = page\n",
    "    urls[url_pos] = urls[url_pos] + '&page=' + str(page + 1)\n",
    "    page = page + 1"
   ]
  },
  {
   "cell_type": "code",
   "execution_count": 33,
   "metadata": {},
   "outputs": [
    {
     "data": {
      "text/plain": [
       "['https://www.rottentomatoes.com/tv/squid_game/s01/reviews?type=&sort=&page=1',\n",
       " 'https://www.rottentomatoes.com/tv/squid_game/s01/reviews?type=&sort=&page=2',\n",
       " 'https://www.rottentomatoes.com/tv/squid_game/s01/reviews?type=&sort=&page=3']"
      ]
     },
     "execution_count": 33,
     "metadata": {},
     "output_type": "execute_result"
    }
   ],
   "source": [
    "urls"
   ]
  },
  {
   "cell_type": "code",
   "execution_count": null,
   "metadata": {},
   "outputs": [],
   "source": []
  }
 ],
 "metadata": {
  "interpreter": {
   "hash": "ed225720166559e7176d3793db16a2fd8d295f725007103b21ac3099d2a89ee8"
  },
  "kernelspec": {
   "display_name": "Python 3",
   "language": "python",
   "name": "python3"
  },
  "language_info": {
   "codemirror_mode": {
    "name": "ipython",
    "version": 3
   },
   "file_extension": ".py",
   "mimetype": "text/x-python",
   "name": "python",
   "nbconvert_exporter": "python",
   "pygments_lexer": "ipython3",
   "version": "3.8.8"
  }
 },
 "nbformat": 4,
 "nbformat_minor": 2
}
