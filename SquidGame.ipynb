{
 "cells": [
  {
   "cell_type": "code",
   "execution_count": 2,
   "metadata": {},
   "outputs": [],
   "source": [
    "from urllib.request import urlopen as uReq\n",
    "from bs4 import BeautifulSoup as soup\n",
    "import csv"
   ]
  },
  {
   "cell_type": "code",
   "execution_count": 3,
   "metadata": {},
   "outputs": [],
   "source": [
    "urls = ['https://www.rottentomatoes.com/tv/squid_game/s01/reviews?type=&sort=']*3"
   ]
  },
  {
   "cell_type": "code",
   "execution_count": 4,
   "metadata": {},
   "outputs": [
    {
     "data": {
      "text/plain": [
       "['https://www.rottentomatoes.com/tv/squid_game/s01/reviews?type=&sort=',\n",
       " 'https://www.rottentomatoes.com/tv/squid_game/s01/reviews?type=&sort=',\n",
       " 'https://www.rottentomatoes.com/tv/squid_game/s01/reviews?type=&sort=']"
      ]
     },
     "execution_count": 4,
     "metadata": {},
     "output_type": "execute_result"
    }
   ],
   "source": [
    "urls"
   ]
  },
  {
   "cell_type": "code",
   "execution_count": 5,
   "metadata": {},
   "outputs": [],
   "source": [
    "#list of urls\n",
    "page = 1\n",
    "while (page<=2):\n",
    "    url_pos = page\n",
    "    urls[url_pos] = urls[url_pos] + '&page=' + str(page + 1)\n",
    "    page = page + 1"
   ]
  },
  {
   "cell_type": "code",
   "execution_count": 6,
   "metadata": {},
   "outputs": [
    {
     "data": {
      "text/plain": [
       "['https://www.rottentomatoes.com/tv/squid_game/s01/reviews?type=&sort=',\n",
       " 'https://www.rottentomatoes.com/tv/squid_game/s01/reviews?type=&sort=&page=2',\n",
       " 'https://www.rottentomatoes.com/tv/squid_game/s01/reviews?type=&sort=&page=3']"
      ]
     },
     "execution_count": 6,
     "metadata": {},
     "output_type": "execute_result"
    }
   ],
   "source": [
    "urls"
   ]
  },
  {
   "cell_type": "code",
   "execution_count": 7,
   "metadata": {},
   "outputs": [],
   "source": [
    "#obtaining data\n",
    "reviews=[]\n",
    "for url in urls:\n",
    "    client = uReq(url)\n",
    "    page_html = client.read()\n",
    "    client.close()\n",
    "    page_soup = soup(page_html, \"html.parser\")\n",
    "    reviews = reviews + [review.text for review in page_soup.find_all(\"div\", {\"data-qa\": \"review-quote\"})]"
   ]
  },
  {
   "cell_type": "code",
   "execution_count": 8,
   "metadata": {},
   "outputs": [
    {
     "data": {
      "text/plain": [
       "57"
      ]
     },
     "execution_count": 8,
     "metadata": {},
     "output_type": "execute_result"
    }
   ],
   "source": [
    "len(reviews)"
   ]
  },
  {
   "cell_type": "code",
   "execution_count": 9,
   "metadata": {},
   "outputs": [
    {
     "data": {
      "text/plain": [
       "['\\r\\n                    The Squid Game is a wonderfully crafted suspenseful show that keeps you on the edge of your seat. But as the episodes move forward, the over dramatic elements take center stage and the whole thing loses steam scene after scene.\\r\\n                ',\n",
       " '\\r\\n                    The originality of the idea, the visual effects and of course, the acting are outstanding and incomparable to anything we have ever seen on television in our lives!\\r\\n                ',\n",
       " '\\r\\n                    Awesome!\\r\\n                ',\n",
       " \"\\r\\n                    Netflix's breakout series depicts a world of violent and macabre individualism and desperation.\\r\\n                \",\n",
       " \"\\r\\n                    Squid Game is many things, but above all it's top-notch junk TV, to be binged with swivel-eyed abandon.\\r\\n                \",\n",
       " '\\r\\n                    I don\\'t know if anything is \"111 million views instantly\" good but at least Squid Game delivered on the hype, it\\'s if nothing else a great TV series.\\r\\n                ',\n",
       " '\\r\\n                    This very bingeable Korean horror drama may not be a feel good watch, but it sure does feel good to see how internationally popular it has become.\\r\\n                ',\n",
       " '\\r\\n                    Directed by Hwang Dong-hyuk, the South Korean import is a diabolical, original parable about money and debt.\\r\\n                ',\n",
       " '\\r\\n                    Series creator Hwang Dong-hyuk, who spent a decade trying to get the project green-lit and was once so desperate he sold his laptop for cash, will probably have less trouble getting his next script financed.\\r\\n                ',\n",
       " '\\r\\n                    The South Korean TV sensation taps into the universal apprehensions of pressing debt, strained family relations and the longing for a better life.\\r\\n                ',\n",
       " \"\\r\\n                    For the most part, writer-director Hwang Dong-hyuk's mix of high and low elements like that works incredibly well.\\r\\n                \",\n",
       " \"\\r\\n                    It's an amazing piece of work, and I truly applaud creator Hwang Dong-Hyuk on making this mesmerizing, shocking and emotional show.\\r\\n                \",\n",
       " \"\\r\\n                    Hwang has created one of the most immersive television worlds since Game of Thrones, with relentless entertainment value and remarkably fleshed-out, sympathetically flawed characters. It's a provocative morality play.\\r\\n                \",\n",
       " '\\r\\n                    Totally bingeable.\\r\\n                ',\n",
       " \"\\r\\n                    This is a show that plays to Netflix's strengths. Only Netflix are able to have a show that can generate such a buzz globally in literally a matter of days, even if the show is not in the English language.\\r\\n                \",\n",
       " '\\r\\n                    The low-effort concept [and] the pastel palette freckled with blood, Squid Game is a shallow story that uses a social issue as a platform for shocking violence. Yawn.\\r\\n                ',\n",
       " \"\\r\\n                    Like Joker, there's a having-it-both-ways insistence that a culture that could create violence is inherently sick and deranged, while playing out a wildly overstated version of sick derangement in a manner designed to be maximally tense and amusing.\\r\\n                \",\n",
       " '\\r\\n                    Hwang Dong-hyuk has done a great job of bringing this ghoulishly entertaining series to life\\r\\n                ',\n",
       " '\\r\\n                    In the end, we have a great show about the core of humanity that should be making... Hollywood sweat right about now.\\r\\n                ',\n",
       " '\\r\\n                    Squid Game is a rousing, disturbing, candy-coated, brain matter-splattered experience steeped in societal ennui.\\r\\n                ',\n",
       " \"\\r\\n                    Squid Game has one of the best first episodes of television I've ever seen. It shows the results you can get by investing in programming from around the world.\\r\\n                \",\n",
       " '\\r\\n                    Is there a battle more emblematic of this moment than that between individual rights and social responsibilities?\\r\\n                ',\n",
       " '\\r\\n                    Squid Game is smart, well-written, and has a talented cast that takes an often violent story and makes it emotionally resonate.\\r\\n                ',\n",
       " \"\\r\\n                    It's just really great telly. It's tightly written, each episode packed with enough pace to make it truly binge worthy.\\r\\n                \",\n",
       " '\\r\\n                    As social commentary, it mostly works. As a show about brutal, larger-than-life games to the death, it also mostly works... But as far as final acts go, Squid Game stumbled pretty badly.\\r\\n                ',\n",
       " '\\r\\n                    What writer-director Hwang Dong-hyuk has done principally involves serving old wine in a new bottle. Seen that way, \"Squid Game\" presents a visually arresting variation on themes seen plenty of times before, which include tapping into the class divide.\\r\\n                ',\n",
       " \"\\r\\n                    [It] never makes its action look glamorous. Its intensity comes from feeling that you've gone beyond the end point of a chain of absurdist logic and you really might not want to see what comes next.\\r\\n                \",\n",
       " '\\r\\n                    It really is an excellent distillation of how predatory capitalism works.\\r\\n                ',\n",
       " \"\\r\\n                    What you've got in Squid Game, for all its now-notorious darkness, is a brave, dark, ambitious tale, at times moving and at times terrifying. Its power is in its understanding that money is survival.\\r\\n                \",\n",
       " '\\r\\n                    Debt to a cruel system is inescapable and dehumanizing, the show constantly reminds us. But beneath the hyper-violence, it also suggests that our obligations to other people can be a source of meaning, compassion, and --just maybe -- salvation.\\r\\n                ',\n",
       " '\\r\\n                    Dark, twisted, and surprisingly emotional, Squid Game is a quick bloody yet visually stunning must watch.\\r\\n                ',\n",
       " '\\r\\n                    Craptacular.\\r\\n                ',\n",
       " '\\r\\n                    It does say a lot about human nature, friendship, cruelty, and the way modern societies have abused its poorer citizens. [Full review in Spanish]\\r\\n                ',\n",
       " \"\\r\\n                    The greater anticapitalist critique of Squid Game almost entirely toothless following any serious analysis...I am unimpressed with the messaging, and am confident this drama won't stand the test of time.\\r\\n                \",\n",
       " '\\r\\n                    A twisty, fast-paced, action-packed show whose episodes end in killer cliffhangers-in other words, the ultimate binge bait.\\r\\n                ',\n",
       " \"\\r\\n                    Netflix's Korean thriller is on track to be the most watched series in the streamer's history. It's also giving people nightmares.\\r\\n                \",\n",
       " \"\\r\\n                    As far as sociopolitical statements go, you also couldn't engineer a better strike to the millennial and Gen Z nerves than a show where characters have to perform useless tasks in order to marginally improve their luck of the draw.\\r\\n                \",\n",
       " '\\r\\n                    Squid Game lays out its strengths early. The cast are terrific, the action is inventive and brutal and the influences are worn shamelessly.\\r\\n                ',\n",
       " '\\r\\n                    This unflinching look at how desperation changes us makes Squid Game as moving as it is exciting. It searches for an answer to one terrifying question: When pushed, what are your limits? What would you do? Its chilling brutality has us hooked.\\r\\n                ',\n",
       " \"\\r\\n                    Equal parts gut-wrenching and squirm-inducing, it's a white-knuckle thriller, drama, and episodic psychological breakdown with a sickly pastel veneer. It's one of the most unique things you'll watch this year -- and maybe ever.\\r\\n                \",\n",
       " \"\\r\\n                    Squid Game culminates emotionally in episode six, centered on a childlike game of marbles that's paced with excruciating slowness as the main characters have to make, literally, life or death decisions with one another.\\r\\n                \",\n",
       " '\\r\\n                    The human aspect of this show shines over the morbid. For some reason we are addicted to the unmeasured violence and the isolation and behavioral analysis of human beings in movies and TV shows. Recipe for success. [Full review in Spanish]\\r\\n                ',\n",
       " '\\r\\n                    Ignore some glaring red herrings, plot holes, occasional shoddy pacing and in-your-face gore, and Squid Game is worth bingeing.\\r\\n                ',\n",
       " '\\r\\n                    \"Squid Game\" is fairly thoughtful, and the fact that there is no sexual component to the violence is something in its favor.\\r\\n                ',\n",
       " '\\r\\n                    The ins and outs of the games are thrilling.\\r\\n                ',\n",
       " \"\\r\\n                    Squid Game marks its own territory, first with its especially savage premise and the constant tension around life-or-death scenarios, and second, by focusing on each character's decisions, as they struggle to choose between survival and humanity.\\r\\n                \",\n",
       " '\\r\\n                    Stylish, gripping, and well-acted by an excellent ensemble cast, Squid Game will keep you pressing play, no matter how scared you get.\\r\\n                ',\n",
       " '\\r\\n                    Squid Game is thrilling and original and full of gripping emotional twists-and despite being a big-budget Netflix show, it also feels subversive in our current media landscape.\\r\\n                ',\n",
       " \"\\r\\n                    Truth be told, Squid Game is not for the faint of heart, but -- like some of the best genre content -- there's more going on between the kill or be killed.\\r\\n                \",\n",
       " '\\r\\n                    Some predictable plot points distract from the fine acting and the high-minded concept. Fans of dystopian thrillers will enjoy this series. Sensitive or younger viewers should avoid this one.\\r\\n                ',\n",
       " '\\r\\n                    This series does not hold back. Squid Game is unabashedly violent, chaotic, and visceral.\\r\\n                ',\n",
       " '\\r\\n                    Squid Games takes a fresh idea and spins it into a thrilling drama; we hope it continues to build the tension we saw in the last 20 minutes throughout the season.\\r\\n                ',\n",
       " \"\\r\\n                    It's a strange, violent, disturbing adventure, and if that sounds like something you'd like, I can't recommend Squid Game enough.\\r\\n                \",\n",
       " \"\\r\\n                    Squid Game doesn't offer an escape from the horrors of the real world; within its limitations as a fictional drama, it gives us something far rarer: an affirmation that they exist, and that we're not alone in finding them nightmarish.\\r\\n                \",\n",
       " '\\r\\n                    Overall, this is still a savagely entertaining slam dunk from Netflix Korea, which is likely to be embraced around the world as its predecessors were.\\r\\n                ',\n",
       " '\\r\\n                    Thematic intelligence aside, Squid Game is also a white-knuckle watch, thanks to its visceral competition element.\\r\\n                ',\n",
       " \"\\r\\n                    Aside from being stretched just a touch too thin in spots, I'd say [Squid Game] deserves all the praise it's going to get.\\r\\n                \"]"
      ]
     },
     "execution_count": 9,
     "metadata": {},
     "output_type": "execute_result"
    }
   ],
   "source": [
    "reviews"
   ]
  },
  {
   "cell_type": "code",
   "execution_count": 10,
   "metadata": {},
   "outputs": [],
   "source": [
    "#csv with reviews\n",
    "with open('rotten_reviews.csv', 'w') as myfile:\n",
    "    wr = csv.writer(myfile, quoting=csv.QUOTE_ALL)\n",
    "    wr.writerow(reviews)"
   ]
  },
  {
   "cell_type": "markdown",
   "metadata": {},
   "source": [
    "After running the code above once, run from this point"
   ]
  },
  {
   "cell_type": "code",
   "execution_count": 11,
   "metadata": {},
   "outputs": [
    {
     "name": "stderr",
     "output_type": "stream",
     "text": [
      "[nltk_data] Downloading package stopwords to\n",
      "[nltk_data]     C:\\Users\\Wilson\\AppData\\Roaming\\nltk_data...\n",
      "[nltk_data]   Package stopwords is already up-to-date!\n",
      "[nltk_data] Downloading package punkt to\n",
      "[nltk_data]     C:\\Users\\Wilson\\AppData\\Roaming\\nltk_data...\n",
      "[nltk_data]   Package punkt is already up-to-date!\n",
      "[nltk_data] Downloading package averaged_perceptron_tagger to\n",
      "[nltk_data]     C:\\Users\\Wilson\\AppData\\Roaming\\nltk_data...\n",
      "[nltk_data]   Package averaged_perceptron_tagger is already up-to-\n",
      "[nltk_data]       date!\n"
     ]
    }
   ],
   "source": [
    "import csv\n",
    "import nltk\n",
    "\n",
    "nltk.download('stopwords')\n",
    "nltk.download('punkt')\n",
    "nltk.download('averaged_perceptron_tagger')\n",
    "\n",
    "from nltk.corpus import stopwords\n",
    "from nltk.tokenize import word_tokenize \n",
    "\n",
    "#from wordcloud import WordCloud, ImageColorGenerator\n",
    "import numpy as np\n",
    "from PIL import Image\n",
    "import matplotlib.pyplot as plt"
   ]
  },
  {
   "cell_type": "code",
   "execution_count": 12,
   "metadata": {},
   "outputs": [],
   "source": [
    "with open('rotten_reviews.csv', 'r') as f:\n",
    "  reader = csv.reader(f)\n",
    "  reviews = list(reader)[0]"
   ]
  },
  {
   "cell_type": "code",
   "execution_count": 13,
   "metadata": {},
   "outputs": [
    {
     "data": {
      "text/plain": [
       "57"
      ]
     },
     "execution_count": 13,
     "metadata": {},
     "output_type": "execute_result"
    }
   ],
   "source": [
    "len(reviews)"
   ]
  },
  {
   "cell_type": "code",
   "execution_count": 14,
   "metadata": {},
   "outputs": [],
   "source": [
    "stop_words = set(stopwords.words('english')) \n",
    "word_tokens=[]\n",
    "for review in reviews:   \n",
    "    word_tokens = word_tokens + word_tokenize(review) \n",
    "  \n",
    "filtered_word_reviews = [w for w in word_tokens if not w in stop_words]"
   ]
  },
  {
   "cell_type": "code",
   "execution_count": 15,
   "metadata": {},
   "outputs": [
    {
     "name": "stdout",
     "output_type": "stream",
     "text": [
      "['The', 'Squid', 'Game', 'is', 'a', 'wonderfully', 'crafted', 'suspenseful', 'show', 'that']\n",
      "['The', 'Squid', 'Game', 'wonderfully', 'crafted', 'suspenseful', 'show', 'keeps', 'edge', 'seat']\n"
     ]
    }
   ],
   "source": [
    "print(word_tokens[:10]) \n",
    "print(filtered_word_reviews[:10])"
   ]
  }
 ],
 "metadata": {
  "interpreter": {
   "hash": "ed225720166559e7176d3793db16a2fd8d295f725007103b21ac3099d2a89ee8"
  },
  "kernelspec": {
   "display_name": "Python 3",
   "language": "python",
   "name": "python3"
  },
  "language_info": {
   "codemirror_mode": {
    "name": "ipython",
    "version": 3
   },
   "file_extension": ".py",
   "mimetype": "text/x-python",
   "name": "python",
   "nbconvert_exporter": "python",
   "pygments_lexer": "ipython3",
   "version": "3.8.8"
  }
 },
 "nbformat": 4,
 "nbformat_minor": 2
}
